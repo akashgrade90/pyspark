{
 "cells": [
  {
   "cell_type": "markdown",
   "metadata": {},
   "source": [
    "### ACCUMULATOR"
   ]
  },
  {
   "cell_type": "markdown",
   "metadata": {},
   "source": [
    "#### Read below file and count the empty lines, count of lines which have a duplicate words"
   ]
  },
  {
   "cell_type": "code",
   "execution_count": 26,
   "metadata": {
    "collapsed": false
   },
   "outputs": [
    {
     "data": {
      "text/plain": [
       "[u'Hello, This is a word count program.',\n",
       " u'',\n",
       " u'A word count program includes below requirnments:',\n",
       " u'do not include , : or a . ',\n",
       " u'',\n",
       " u'',\n",
       " u'also ignore the cases and also ignore any empty strigs']"
      ]
     },
     "execution_count": 26,
     "metadata": {},
     "output_type": "execute_result"
    }
   ],
   "source": [
    "fileRDD = sc.textFile(\"wordcount.txt\")\n",
    "fileRDD.collect()"
   ]
  },
  {
   "cell_type": "code",
   "execution_count": 53,
   "metadata": {
    "collapsed": false
   },
   "outputs": [
    {
     "name": "stdout",
     "output_type": "stream",
     "text": [
      "3 1\n"
     ]
    }
   ],
   "source": [
    "#Lets define two accumulators for this\n",
    "emptyLineCount = sc.accumulator(0)\n",
    "lineWithDuplicateWords= sc.accumulator(0)\n",
    "\n",
    "def statsMethod(line):\n",
    "    global emptyLineCount\n",
    "    global lineWithDuplicateWords\n",
    "    \n",
    "    if(line ==\"\"):\n",
    "        emptyLineCount+=1\n",
    "        \n",
    "    cleanLine = [word  for word in line.split(\" \") if word not in (\",\",\":\",\".\")]\n",
    "    \n",
    "    if(len(cleanLine) != len(set(cleanLine))):\n",
    "        lineWithDuplicateWords+=1\n",
    "    \n",
    "\n",
    "fileRDD.foreach(statsMethod)\n",
    "print emptyLineCount.value,lineWithDuplicateWords.value"
   ]
  },
  {
   "cell_type": "markdown",
   "metadata": {},
   "source": [
    "### BROADCAST\n"
   ]
  },
  {
   "cell_type": "markdown",
   "metadata": {},
   "source": [
    "(A) BROADCAST A COLLECTION\n",
    "(B) BROADCAST A FILE"
   ]
  },
  {
   "cell_type": "code",
   "execution_count": null,
   "metadata": {
    "collapsed": true
   },
   "outputs": [],
   "source": []
  }
 ],
 "metadata": {
  "kernelspec": {
   "display_name": "Python [Root]",
   "language": "python",
   "name": "Python [Root]"
  },
  "language_info": {
   "codemirror_mode": {
    "name": "ipython",
    "version": 2
   },
   "file_extension": ".py",
   "mimetype": "text/x-python",
   "name": "python",
   "nbconvert_exporter": "python",
   "pygments_lexer": "ipython2",
   "version": "2.7.12"
  }
 },
 "nbformat": 4,
 "nbformat_minor": 0
}

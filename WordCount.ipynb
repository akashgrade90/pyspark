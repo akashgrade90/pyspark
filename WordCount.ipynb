{
 "cells": [
  {
   "cell_type": "code",
   "execution_count": 27,
   "metadata": {
    "collapsed": false
   },
   "outputs": [
    {
     "data": {
      "text/plain": [
       "defaultdict(int,\n",
       "            {u'a': 2,\n",
       "             u'also': 1,\n",
       "             u'below': 1,\n",
       "             u'cases': 1,\n",
       "             u'count': 2,\n",
       "             u'do': 1,\n",
       "             u'hello': 1,\n",
       "             u'ignore': 1,\n",
       "             u'include': 1,\n",
       "             u'includes': 1,\n",
       "             u'is': 1,\n",
       "             u'not': 1,\n",
       "             u'or': 1,\n",
       "             u'program': 2,\n",
       "             u'requirnments': 1,\n",
       "             u'the': 1,\n",
       "             u'this': 1,\n",
       "             u'word': 2})"
      ]
     },
     "execution_count": 27,
     "metadata": {},
     "output_type": "execute_result"
    }
   ],
   "source": [
    "BaseRDD = sc.textFile(\"wordcount.txt\").zipWithIndex()\n",
    "CleanRDD = BaseRDD.flatMap(lambda x : x[0].split(\" \")) \\\n",
    "                  .map(lambda x : x.replace(\",\",\"\").replace(\":\",\"\").replace(\".\",\"\").lower()) \\\n",
    "                  .filter(lambda x : x !=\"\")\n",
    "\n",
    "#This is one action\n",
    "CleanRDD.countByValue()"
   ]
  },
  {
   "cell_type": "code",
   "execution_count": null,
   "metadata": {
    "collapsed": true
   },
   "outputs": [],
   "source": [
    "#Lets assume you need to many more this on the above data set.. eg finding top 5 words\n",
    "#also which all lines do they occur"
   ]
  },
  {
   "cell_type": "code",
   "execution_count": 86,
   "metadata": {
    "collapsed": false
   },
   "outputs": [
    {
     "data": {
      "text/plain": [
       "[(3, (u'a', [[1, 2], 3])),\n",
       " (2, (u'count', [1, 2])),\n",
       " (2, (u'word', [1, 2])),\n",
       " (2, (u'program', [1, 2])),\n",
       " (1, (u'this', 1))]"
      ]
     },
     "execution_count": 86,
     "metadata": {},
     "output_type": "execute_result"
    }
   ],
   "source": [
    "newCleanRDD = BaseRDD.map(lambda x : (x[1]+1,x[0])).flatMapValues(lambda x : x.split(\" \")) \\\n",
    "                  .mapValues(lambda x : x.replace(\",\",\"\").replace(\":\",\"\").replace(\".\",\"\").lower()) \\\n",
    "                  .filter(lambda x : x[1] != \"\")\n",
    "        \n",
    "MappedOneRDD = newCleanRDD.map(lambda x : (x[1],(1,x[0])))\n",
    "\n",
    "def foldReducedRDD(x,y):\n",
    "    return (x[0]+y[0],[x[1],y[1]])\n",
    "\n",
    "ReducedRDD = MappedOneRDD.reduceByKey(foldReducedRDD).map(lambda x : (x[1][0],(x[0],x[1][1])))\n",
    "ReducedRDD.takeOrdered(5,key=lambda x:-x[0])"
   ]
  },
  {
   "cell_type": "code",
   "execution_count": 87,
   "metadata": {
    "collapsed": false
   },
   "outputs": [
    {
     "data": {
      "text/plain": [
       "[(3, (u'a', ['1', '2', '3'])),\n",
       " (2, (u'count', ['1', '2'])),\n",
       " (2, (u'word', ['1', '2'])),\n",
       " (2, (u'program', ['1', '2'])),\n",
       " (1, (u'this', ['1']))]"
      ]
     },
     "execution_count": 87,
     "metadata": {},
     "output_type": "execute_result"
    }
   ],
   "source": [
    "BaseRDD = sc.textFile(\"wordcount.txt\").zipWithIndex()\n",
    "\n",
    "newCleanRDD = BaseRDD.map(lambda x : (x[1]+1,x[0])).flatMapValues(lambda x : x.split(\" \")) \\\n",
    "                  .mapValues(lambda x : x.replace(\",\",\"\").replace(\":\",\"\").replace(\".\",\"\").lower()) \\\n",
    "                  .filter(lambda x : x[1] != \"\")\n",
    "        \n",
    "MappedOneRDD = newCleanRDD.map(lambda x : (x[1],(1,x[0])))\n",
    "\n",
    "def foldReducedRDD(x,y):\n",
    "    return (x[0]+y[0],str(x[1])+','+str(y[1]))\n",
    "\n",
    "ReducedRDD = MappedOneRDD.reduceByKey(foldReducedRDD).map(lambda x : (x[1][0],(x[0],str(x[1][1]).split(\",\"))))\n",
    "ReducedRDD.takeOrdered(5,key=lambda x:-x[0])"
   ]
  },
  {
   "cell_type": "code",
   "execution_count": 105,
   "metadata": {
    "collapsed": false
   },
   "outputs": [
    {
     "data": {
      "text/plain": [
       "[(3, (u'a', ['1', '2', '3'])),\n",
       " (2, (u'count', ['1', '2'])),\n",
       " (2, (u'word', ['1', '2'])),\n",
       " (2, (u'program', ['1', '2'])),\n",
       " (1, (u'this', ['1']))]"
      ]
     },
     "execution_count": 105,
     "metadata": {},
     "output_type": "execute_result"
    }
   ],
   "source": [
    "BaseRDD = sc.textFile(\"wordcount.txt\").zipWithIndex()\n",
    "newCleanRDD.map(lambda x : (x[1],x[0])) \\\n",
    "           .reduceByKey(lambda x,y : str(x)+\",\"+str(y)) \\\n",
    "           .map(lambda x : (len(str(x[1]).split(\",\")),(x[0],str(x[1]).split(\",\")))) \\\n",
    "           .takeOrdered(5,key=lambda x:-x[0])\n"
   ]
  },
  {
   "cell_type": "code",
   "execution_count": null,
   "metadata": {
    "collapsed": true
   },
   "outputs": [],
   "source": []
  }
 ],
 "metadata": {
  "kernelspec": {
   "display_name": "Python [Root]",
   "language": "python",
   "name": "Python [Root]"
  },
  "language_info": {
   "codemirror_mode": {
    "name": "ipython",
    "version": 2
   },
   "file_extension": ".py",
   "mimetype": "text/x-python",
   "name": "python",
   "nbconvert_exporter": "python",
   "pygments_lexer": "ipython2",
   "version": "2.7.12"
  }
 },
 "nbformat": 4,
 "nbformat_minor": 0
}
